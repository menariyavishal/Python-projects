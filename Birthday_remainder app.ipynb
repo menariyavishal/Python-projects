{
  "nbformat": 4,
  "nbformat_minor": 0,
  "metadata": {
    "colab": {
      "provenance": [],
      "toc_visible": true,
      "include_colab_link": true
    },
    "kernelspec": {
      "name": "python3",
      "display_name": "Python 3"
    },
    "language_info": {
      "name": "python"
    }
  },
  "cells": [
    {
      "cell_type": "markdown",
      "metadata": {
        "id": "view-in-github",
        "colab_type": "text"
      },
      "source": [
        "<a href=\"https://colab.research.google.com/github/menariyavishal/Python-projects/blob/main/Birthday_remainder%C2%A0app.ipynb\" target=\"_parent\"><img src=\"https://colab.research.google.com/assets/colab-badge.svg\" alt=\"Open In Colab\"/></a>"
      ]
    },
    {
      "cell_type": "markdown",
      "source": [
        "#Adding **Birthday**"
      ],
      "metadata": {
        "id": "yU1laY4B1FRp"
      }
    },
    {
      "cell_type": "code",
      "source": [
        "birthdays = {}\n",
        "\n",
        "def add_birthday():\n",
        "  name = input(\"Enter name: \")\n",
        "  month = int(input(\"Enter month (1-12): \"))\n",
        "  day = int(input(\"Enter day (1-31):  \"))\n",
        "\n",
        "\n",
        "  if name in birthdays:\n",
        "    print(f\"{name} is already exist in the birthday list\")\n",
        "    return\n",
        "\n",
        "  if 1 <= month  <= 12 and 1 <= day <= 31:\n",
        "    birthdays[name] = (month,day)\n",
        "  else:\n",
        "    print(\"Invalid month or day value\")"
      ],
      "metadata": {
        "id": "GlQGnGXxwmpc"
      },
      "execution_count": null,
      "outputs": []
    },
    {
      "cell_type": "markdown",
      "source": [
        "# Viwe all **Birthdays**"
      ],
      "metadata": {
        "id": "Oq_NYryQ1a4C"
      }
    },
    {
      "cell_type": "code",
      "source": [
        "def view_birthdays():\n",
        "  if len(birthdays) == 0:\n",
        "    print(\"No birthdays in the list\")\n",
        "  else:\n",
        "    print(\"Current Birthdays:\")\n",
        "    for name, (month, day) in birthdays.items():\n",
        "      print(f\"{name}: {month}/{day}\")"
      ],
      "metadata": {
        "id": "Z_Szv5TL1guJ"
      },
      "execution_count": null,
      "outputs": []
    },
    {
      "cell_type": "markdown",
      "source": [
        "## **Reminder**"
      ],
      "metadata": {
        "id": "WRk95b5_2_NQ"
      }
    },
    {
      "cell_type": "code",
      "source": [
        "def upcoming_birthdays():\n",
        "  today_year = int(input(\"Enter current year: \"))\n",
        "  today_month = int(input(\"Enter current month (1-12): \"))\n",
        "  today_day = int(input(\"Enter current day (1-31): \"))\n",
        "  today = (today_year,today_month,today_day)\n",
        "\n",
        "  def is_leap_year(today_year):\n",
        "    if (year % 4 == 0 and year % 100 != 0) or (year % 400 == 0):\n",
        "        return True\n",
        "    return False\n",
        "\n",
        "  upcoming_range = int(input(\"Enter number of days before the birthday as notification: \"))\n",
        "  print(f\"Birthdays within {upcoming_range} days:\")\n",
        "  # Manually calculate end date's day and month by adding `upcoming_range` days to today's date\n",
        "  day = int(today_day)\n",
        "  month = int(today_month)\n",
        "  year = int(today_year)\n",
        "\n",
        "  # Calculate the days in each month, considering leap year\n",
        "  days_in_month = [31, 29 if is_leap_year(today_year) else 28, 31, 30, 31, 30, 31, 31, 30, 31, 30, 31]\n",
        "\n",
        "  # Add days to calculate upcoming date\n",
        "  day += upcoming_range\n",
        "  while day > days_in_month[month - 1]:\n",
        "      day -= days_in_month[month - 1]\n",
        "      month += 1\n",
        "      if month > 12:\n",
        "          month = 1\n",
        "          year += 1\n",
        "\n",
        "  # The calculated upcoming date (day, month) after adding the range\n",
        "  upcoming_day, upcoming_month = day, month\n",
        "  found = False\n",
        "\n",
        "\n",
        "  for name, (month,day) in birthdays.items():\n",
        "    if month == 2 and day == 29:\n",
        "      if not is_leap_year(year):\n",
        "        print(f\"{name}: {month}/{day} born in leap year and {year} is not a leap year\")\n",
        "        continue\n",
        "\n",
        "    flag = False\n",
        "    if int(today_month) < month < upcoimng_month:\n",
        "      flag = True\n",
        "    elif int(today_month) == month and int(today_day) <= day:\n",
        "        flag = True\n",
        "    elif upcoming_month == month and day <= upcoming_day:\n",
        "        flag = True\n",
        "    if flag:\n",
        "      print(f\"{name}'s birthday after {upcoming_range} days\")\n",
        "      found = True\n",
        "  if not found:\n",
        "    print(\"No upcoming birthdays\")"
      ],
      "metadata": {
        "id": "lCdEy0EF3JgE"
      },
      "execution_count": null,
      "outputs": []
    },
    {
      "cell_type": "markdown",
      "source": [
        "# Main **Function**"
      ],
      "metadata": {
        "id": "yv3aPjoigzwf"
      }
    },
    {
      "cell_type": "markdown",
      "source": [],
      "metadata": {
        "id": "5pzGcHnPt1BW"
      }
    },
    {
      "cell_type": "code",
      "source": [
        "def main():\n",
        "  while True:\n",
        "    print(\"\\n---Birthday Remainder App---\")\n",
        "    print(\"1. Add Birthday\")\n",
        "    print(\"2. View Birthdays\")\n",
        "    print(\"3. Upcoming Birthdays\")\n",
        "    print(\"4. Exit\")\n",
        "\n",
        "    choice = input(\"Enter your choice (1/2/3/4): \")\n",
        "    if choice == '1':\n",
        "      add_birthday()\n",
        "    elif choice == '2':\n",
        "      view_birthdays()\n",
        "    elif choice == '3':\n",
        "      upcoming_birthdays()\n",
        "    elif choice == '4':\n",
        "      print(\"Exit--\")\n",
        "      break\n",
        "    else:\n",
        "      print(\"Invalid choice. Please try again.\")"
      ],
      "metadata": {
        "id": "tDB3x93Wg2Za"
      },
      "execution_count": null,
      "outputs": []
    },
    {
      "cell_type": "markdown",
      "source": [
        "# Calling main **Function**"
      ],
      "metadata": {
        "id": "SM2w4GKRhuVS"
      }
    },
    {
      "cell_type": "code",
      "source": [
        "main()"
      ],
      "metadata": {
        "colab": {
          "base_uri": "https://localhost:8080/"
        },
        "id": "_D-0OP2Bh2Sk",
        "outputId": "bba4ca8e-a246-410a-f81b-08a335e1e36e"
      },
      "execution_count": null,
      "outputs": [
        {
          "output_type": "stream",
          "name": "stdout",
          "text": [
            "\n",
            "---Birthday Remainder App---\n",
            "1. Add Birthday\n",
            "2. View Birthdays\n",
            "3. Upcoming Birthdays\n",
            "4. Exit\n",
            "Enter your choice (1/2/3/4): 1\n",
            "Enter name: santosh\n",
            "Enter month (1-12): 9\n",
            "Enter day (1-31):  11\n",
            "\n",
            "---Birthday Remainder App---\n",
            "1. Add Birthday\n",
            "2. View Birthdays\n",
            "3. Upcoming Birthdays\n",
            "4. Exit\n",
            "Enter your choice (1/2/3/4): 3\n",
            "Enter current year: 2025\n",
            "Enter current month (1-12): 9\n",
            "Enter current day (1-31): 11\n",
            "Enter number of days before the birthday as notification: 10\n",
            "Birthdays within 10 days:\n",
            "santosh's birthday after 10 days\n",
            "\n",
            "---Birthday Remainder App---\n",
            "1. Add Birthday\n",
            "2. View Birthdays\n",
            "3. Upcoming Birthdays\n",
            "4. Exit\n",
            "Enter your choice (1/2/3/4): 4\n",
            "Exit--\n"
          ]
        }
      ]
    }
  ]
}